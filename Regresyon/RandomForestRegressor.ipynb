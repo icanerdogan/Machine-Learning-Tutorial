{
 "cells": [
  {
   "cell_type": "code",
   "execution_count": 1,
   "metadata": {},
   "outputs": [],
   "source": [
    "# VERİ SETİNİ GETİRME\n",
    "import seaborn as sns\n",
    "import pandas as pd\n",
    "import numpy as np\n",
    "from sklearn.impute import SimpleImputer\n",
    "\n",
    "data = sns.load_dataset(\"tips\")\n",
    "df = pd.DataFrame(data)\n",
    "\n",
    "# Eksik Verileri Ortalama ile Doldurma\n",
    "imputer = SimpleImputer(missing_values=np.nan, strategy=\"mean\")\n",
    "imputer = imputer.fit(df[[\"total_bill\"]])\n",
    "df[[\"total_bill\"]] = imputer.transform(df[[\"total_bill\"]])\n",
    "\n",
    "# Kategorik Olmayan Değişkenler\n",
    "total_bill = df[[\"total_bill\"]]\n",
    "tip = df[[\"tip\"]]\n",
    "size = df[[\"size\"]]\n",
    "\n",
    "# Ktegorik Değişkenler İçin 0-1 Dönüşümü\n",
    "smoker = pd.get_dummies(df[[\"smoker\"]])\n",
    "time = pd.get_dummies(df[[\"day\"]])\n",
    "\n",
    "# Kukla Değişkeni Silme\n",
    "smoker = smoker.drop(\"smoker_Yes\", axis=1)\n",
    "\n",
    "# Verileri Birleştirme\n",
    "new_data = pd.concat([total_bill, size, smoker, time, tip], axis=1)\n",
    "\n",
    "# Train ve Test Belirleme\n",
    "training = new_data.iloc[:, 0:7]\n",
    "testing = new_data.iloc[:, 7:8]\n",
    "\n",
    "# Train Test Ayırma\n",
    "from sklearn.model_selection import train_test_split\n",
    "\n",
    "x_train, x_test, y_train, y_test = train_test_split(training, testing, test_size=0.30, random_state=42)"
   ]
  },
  {
   "cell_type": "code",
   "execution_count": 2,
   "metadata": {},
   "outputs": [],
   "source": [
    "from warnings import filterwarnings\n",
    "filterwarnings('ignore')"
   ]
  },
  {
   "cell_type": "markdown",
   "metadata": {},
   "source": [
    "### Random Forest Model"
   ]
  },
  {
   "cell_type": "code",
   "execution_count": 3,
   "metadata": {},
   "outputs": [
    {
     "data": {
      "text/plain": [
       "RandomForestRegressor()"
      ]
     },
     "execution_count": 3,
     "metadata": {},
     "output_type": "execute_result"
    }
   ],
   "source": [
    "from sklearn.ensemble import RandomForestRegressor\n",
    "\n",
    "randomforest_regressor = RandomForestRegressor()\n",
    "randomforest_regressor.fit(x_train, y_train)"
   ]
  },
  {
   "cell_type": "markdown",
   "metadata": {},
   "source": [
    "#### Stats Model"
   ]
  },
  {
   "cell_type": "code",
   "execution_count": 4,
   "metadata": {},
   "outputs": [
    {
     "data": {
      "text/html": [
       "<table class=\"simpletable\">\n",
       "<caption>OLS Regression Results</caption>\n",
       "<tr>\n",
       "  <th>Dep. Variable:</th>            <td>y</td>        <th>  R-squared:         </th> <td>   0.669</td>\n",
       "</tr>\n",
       "<tr>\n",
       "  <th>Model:</th>                   <td>OLS</td>       <th>  Adj. R-squared:    </th> <td>   0.657</td>\n",
       "</tr>\n",
       "<tr>\n",
       "  <th>Method:</th>             <td>Least Squares</td>  <th>  F-statistic:       </th> <td>   54.95</td>\n",
       "</tr>\n",
       "<tr>\n",
       "  <th>Date:</th>             <td>Sun, 18 Oct 2020</td> <th>  Prob (F-statistic):</th> <td>1.10e-36</td>\n",
       "</tr>\n",
       "<tr>\n",
       "  <th>Time:</th>                 <td>21:17:46</td>     <th>  Log-Likelihood:    </th> <td> -180.99</td>\n",
       "</tr>\n",
       "<tr>\n",
       "  <th>No. Observations:</th>      <td>   170</td>      <th>  AIC:               </th> <td>   376.0</td>\n",
       "</tr>\n",
       "<tr>\n",
       "  <th>Df Residuals:</th>          <td>   163</td>      <th>  BIC:               </th> <td>   397.9</td>\n",
       "</tr>\n",
       "<tr>\n",
       "  <th>Df Model:</th>              <td>     6</td>      <th>                     </th>     <td> </td>   \n",
       "</tr>\n",
       "<tr>\n",
       "  <th>Covariance Type:</th>      <td>nonrobust</td>    <th>                     </th>     <td> </td>   \n",
       "</tr>\n",
       "</table>\n",
       "<table class=\"simpletable\">\n",
       "<tr>\n",
       "       <td></td>         <th>coef</th>     <th>std err</th>      <th>t</th>      <th>P>|t|</th>  <th>[0.025</th>    <th>0.975]</th>  \n",
       "</tr>\n",
       "<tr>\n",
       "  <th>total_bill</th> <td>    0.0924</td> <td>    0.008</td> <td>   12.078</td> <td> 0.000</td> <td>    0.077</td> <td>    0.108</td>\n",
       "</tr>\n",
       "<tr>\n",
       "  <th>size</th>       <td>    0.2791</td> <td>    0.074</td> <td>    3.774</td> <td> 0.000</td> <td>    0.133</td> <td>    0.425</td>\n",
       "</tr>\n",
       "<tr>\n",
       "  <th>smoker_No</th>  <td>    0.2964</td> <td>    0.122</td> <td>    2.435</td> <td> 0.016</td> <td>    0.056</td> <td>    0.537</td>\n",
       "</tr>\n",
       "<tr>\n",
       "  <th>day_Thur</th>   <td>    0.2950</td> <td>    0.203</td> <td>    1.452</td> <td> 0.148</td> <td>   -0.106</td> <td>    0.696</td>\n",
       "</tr>\n",
       "<tr>\n",
       "  <th>day_Fri</th>    <td>    0.5303</td> <td>    0.231</td> <td>    2.295</td> <td> 0.023</td> <td>    0.074</td> <td>    0.987</td>\n",
       "</tr>\n",
       "<tr>\n",
       "  <th>day_Sat</th>    <td>    0.2838</td> <td>    0.201</td> <td>    1.415</td> <td> 0.159</td> <td>   -0.112</td> <td>    0.680</td>\n",
       "</tr>\n",
       "<tr>\n",
       "  <th>day_Sun</th>    <td>    0.2730</td> <td>    0.220</td> <td>    1.242</td> <td> 0.216</td> <td>   -0.161</td> <td>    0.707</td>\n",
       "</tr>\n",
       "</table>\n",
       "<table class=\"simpletable\">\n",
       "<tr>\n",
       "  <th>Omnibus:</th>       <td> 6.557</td> <th>  Durbin-Watson:     </th> <td>   1.856</td>\n",
       "</tr>\n",
       "<tr>\n",
       "  <th>Prob(Omnibus):</th> <td> 0.038</td> <th>  Jarque-Bera (JB):  </th> <td>   9.722</td>\n",
       "</tr>\n",
       "<tr>\n",
       "  <th>Skew:</th>          <td> 0.157</td> <th>  Prob(JB):          </th> <td> 0.00774</td>\n",
       "</tr>\n",
       "<tr>\n",
       "  <th>Kurtosis:</th>      <td> 4.129</td> <th>  Cond. No.          </th> <td>    150.</td>\n",
       "</tr>\n",
       "</table><br/><br/>Notes:<br/>[1] Standard Errors assume that the covariance matrix of the errors is correctly specified."
      ],
      "text/plain": [
       "<class 'statsmodels.iolib.summary.Summary'>\n",
       "\"\"\"\n",
       "                            OLS Regression Results                            \n",
       "==============================================================================\n",
       "Dep. Variable:                      y   R-squared:                       0.669\n",
       "Model:                            OLS   Adj. R-squared:                  0.657\n",
       "Method:                 Least Squares   F-statistic:                     54.95\n",
       "Date:                Sun, 18 Oct 2020   Prob (F-statistic):           1.10e-36\n",
       "Time:                        21:17:46   Log-Likelihood:                -180.99\n",
       "No. Observations:                 170   AIC:                             376.0\n",
       "Df Residuals:                     163   BIC:                             397.9\n",
       "Df Model:                           6                                         \n",
       "Covariance Type:            nonrobust                                         \n",
       "==============================================================================\n",
       "                 coef    std err          t      P>|t|      [0.025      0.975]\n",
       "------------------------------------------------------------------------------\n",
       "total_bill     0.0924      0.008     12.078      0.000       0.077       0.108\n",
       "size           0.2791      0.074      3.774      0.000       0.133       0.425\n",
       "smoker_No      0.2964      0.122      2.435      0.016       0.056       0.537\n",
       "day_Thur       0.2950      0.203      1.452      0.148      -0.106       0.696\n",
       "day_Fri        0.5303      0.231      2.295      0.023       0.074       0.987\n",
       "day_Sat        0.2838      0.201      1.415      0.159      -0.112       0.680\n",
       "day_Sun        0.2730      0.220      1.242      0.216      -0.161       0.707\n",
       "==============================================================================\n",
       "Omnibus:                        6.557   Durbin-Watson:                   1.856\n",
       "Prob(Omnibus):                  0.038   Jarque-Bera (JB):                9.722\n",
       "Skew:                           0.157   Prob(JB):                      0.00774\n",
       "Kurtosis:                       4.129   Cond. No.                         150.\n",
       "==============================================================================\n",
       "\n",
       "Notes:\n",
       "[1] Standard Errors assume that the covariance matrix of the errors is correctly specified.\n",
       "\"\"\""
      ]
     },
     "execution_count": 4,
     "metadata": {},
     "output_type": "execute_result"
    }
   ],
   "source": [
    "import statsmodels.api as sm\n",
    "\n",
    "model = sm.OLS(randomforest_regressor.predict(x_train), x_train)\n",
    "model = model.fit()\n",
    "model.summary()"
   ]
  },
  {
   "cell_type": "markdown",
   "metadata": {},
   "source": [
    "### Model Tuning"
   ]
  },
  {
   "cell_type": "code",
   "execution_count": 5,
   "metadata": {},
   "outputs": [],
   "source": [
    "training = new_data.iloc[:, 0:3]\n",
    "testing = new_data.iloc[:, 7:8]\n",
    "\n",
    "from sklearn.model_selection import train_test_split\n",
    "\n",
    "x_train, x_test, y_train, y_test = train_test_split(training, testing, test_size=0.30, random_state=42)"
   ]
  },
  {
   "cell_type": "markdown",
   "metadata": {},
   "source": [
    "#### Grid Search"
   ]
  },
  {
   "cell_type": "code",
   "execution_count": 6,
   "metadata": {},
   "outputs": [],
   "source": [
    "randomforest_params = {\"n_estimators\": [1,10,20,30,40,50,100],\n",
    "                       \"criterion\": [\"mse\", \"mae\"],\n",
    "                       \"max_features\": [\"sqrt\", \"auto\"],\n",
    "                       \"min_samples_split\":np.arange(1,10,1)}"
   ]
  },
  {
   "cell_type": "code",
   "execution_count": 7,
   "metadata": {},
   "outputs": [
    {
     "data": {
      "text/plain": [
       "GridSearchCV(cv=10, estimator=RandomForestRegressor(),\n",
       "             param_grid={'criterion': ['mse', 'mae'],\n",
       "                         'max_features': ['sqrt', 'auto'],\n",
       "                         'min_samples_split': array([1, 2, 3, 4, 5, 6, 7, 8, 9]),\n",
       "                         'n_estimators': [1, 10, 20, 30, 40, 50, 100]})"
      ]
     },
     "execution_count": 7,
     "metadata": {},
     "output_type": "execute_result"
    }
   ],
   "source": [
    "from sklearn.model_selection import GridSearchCV\n",
    "\n",
    "randomforest_model = GridSearchCV(randomforest_regressor, randomforest_params, cv=10)\n",
    "randomforest_model.fit(x_train, y_train)"
   ]
  },
  {
   "cell_type": "code",
   "execution_count": 8,
   "metadata": {},
   "outputs": [
    {
     "name": "stdout",
     "output_type": "stream",
     "text": [
      "Best Parameter:  {'criterion': 'mae', 'max_features': 'sqrt', 'min_samples_split': 9, 'n_estimators': 50}\n"
     ]
    }
   ],
   "source": [
    "print(\"Best Parameter: \", randomforest_model.best_params_)"
   ]
  },
  {
   "cell_type": "markdown",
   "metadata": {},
   "source": [
    "#### Random Forest Tuned"
   ]
  },
  {
   "cell_type": "code",
   "execution_count": 9,
   "metadata": {},
   "outputs": [
    {
     "data": {
      "text/plain": [
       "RandomForestRegressor(criterion='mae', max_features='sqrt', min_samples_split=9,\n",
       "                      n_estimators=50)"
      ]
     },
     "execution_count": 9,
     "metadata": {},
     "output_type": "execute_result"
    }
   ],
   "source": [
    "from sklearn.ensemble import RandomForestRegressor\n",
    "\n",
    "randomforest_tuned = RandomForestRegressor(criterion=\"mae\", max_features=\"sqrt\", min_samples_split = 9, n_estimators=50)\n",
    "randomforest_tuned.fit(x_train, y_train)"
   ]
  },
  {
   "cell_type": "markdown",
   "metadata": {},
   "source": [
    "#### Stats Model"
   ]
  },
  {
   "cell_type": "code",
   "execution_count": 10,
   "metadata": {},
   "outputs": [
    {
     "data": {
      "text/html": [
       "<table class=\"simpletable\">\n",
       "<caption>OLS Regression Results</caption>\n",
       "<tr>\n",
       "  <th>Dep. Variable:</th>            <td>y</td>        <th>  R-squared (uncentered):</th>      <td>   0.977</td> \n",
       "</tr>\n",
       "<tr>\n",
       "  <th>Model:</th>                   <td>OLS</td>       <th>  Adj. R-squared (uncentered):</th> <td>   0.976</td> \n",
       "</tr>\n",
       "<tr>\n",
       "  <th>Method:</th>             <td>Least Squares</td>  <th>  F-statistic:       </th>          <td>   2336.</td> \n",
       "</tr>\n",
       "<tr>\n",
       "  <th>Date:</th>             <td>Sun, 18 Oct 2020</td> <th>  Prob (F-statistic):</th>          <td>4.43e-136</td>\n",
       "</tr>\n",
       "<tr>\n",
       "  <th>Time:</th>                 <td>21:32:45</td>     <th>  Log-Likelihood:    </th>          <td> -116.91</td> \n",
       "</tr>\n",
       "<tr>\n",
       "  <th>No. Observations:</th>      <td>   170</td>      <th>  AIC:               </th>          <td>   239.8</td> \n",
       "</tr>\n",
       "<tr>\n",
       "  <th>Df Residuals:</th>          <td>   167</td>      <th>  BIC:               </th>          <td>   249.2</td> \n",
       "</tr>\n",
       "<tr>\n",
       "  <th>Df Model:</th>              <td>     3</td>      <th>                     </th>              <td> </td>    \n",
       "</tr>\n",
       "<tr>\n",
       "  <th>Covariance Type:</th>      <td>nonrobust</td>    <th>                     </th>              <td> </td>    \n",
       "</tr>\n",
       "</table>\n",
       "<table class=\"simpletable\">\n",
       "<tr>\n",
       "       <td></td>         <th>coef</th>     <th>std err</th>      <th>t</th>      <th>P>|t|</th>  <th>[0.025</th>    <th>0.975]</th>  \n",
       "</tr>\n",
       "<tr>\n",
       "  <th>total_bill</th> <td>    0.0801</td> <td>    0.005</td> <td>   16.597</td> <td> 0.000</td> <td>    0.071</td> <td>    0.090</td>\n",
       "</tr>\n",
       "<tr>\n",
       "  <th>size</th>       <td>    0.4135</td> <td>    0.044</td> <td>    9.379</td> <td> 0.000</td> <td>    0.326</td> <td>    0.500</td>\n",
       "</tr>\n",
       "<tr>\n",
       "  <th>smoker_No</th>  <td>    0.4175</td> <td>    0.074</td> <td>    5.605</td> <td> 0.000</td> <td>    0.270</td> <td>    0.565</td>\n",
       "</tr>\n",
       "</table>\n",
       "<table class=\"simpletable\">\n",
       "<tr>\n",
       "  <th>Omnibus:</th>       <td> 3.163</td> <th>  Durbin-Watson:     </th> <td>   1.775</td>\n",
       "</tr>\n",
       "<tr>\n",
       "  <th>Prob(Omnibus):</th> <td> 0.206</td> <th>  Jarque-Bera (JB):  </th> <td>   3.499</td>\n",
       "</tr>\n",
       "<tr>\n",
       "  <th>Skew:</th>          <td>-0.033</td> <th>  Prob(JB):          </th> <td>   0.174</td>\n",
       "</tr>\n",
       "<tr>\n",
       "  <th>Kurtosis:</th>      <td> 3.700</td> <th>  Cond. No.          </th> <td>    47.1</td>\n",
       "</tr>\n",
       "</table><br/><br/>Notes:<br/>[1] R² is computed without centering (uncentered) since the model does not contain a constant.<br/>[2] Standard Errors assume that the covariance matrix of the errors is correctly specified."
      ],
      "text/plain": [
       "<class 'statsmodels.iolib.summary.Summary'>\n",
       "\"\"\"\n",
       "                                 OLS Regression Results                                \n",
       "=======================================================================================\n",
       "Dep. Variable:                      y   R-squared (uncentered):                   0.977\n",
       "Model:                            OLS   Adj. R-squared (uncentered):              0.976\n",
       "Method:                 Least Squares   F-statistic:                              2336.\n",
       "Date:                Sun, 18 Oct 2020   Prob (F-statistic):                   4.43e-136\n",
       "Time:                        21:32:45   Log-Likelihood:                         -116.91\n",
       "No. Observations:                 170   AIC:                                      239.8\n",
       "Df Residuals:                     167   BIC:                                      249.2\n",
       "Df Model:                           3                                                  \n",
       "Covariance Type:            nonrobust                                                  \n",
       "==============================================================================\n",
       "                 coef    std err          t      P>|t|      [0.025      0.975]\n",
       "------------------------------------------------------------------------------\n",
       "total_bill     0.0801      0.005     16.597      0.000       0.071       0.090\n",
       "size           0.4135      0.044      9.379      0.000       0.326       0.500\n",
       "smoker_No      0.4175      0.074      5.605      0.000       0.270       0.565\n",
       "==============================================================================\n",
       "Omnibus:                        3.163   Durbin-Watson:                   1.775\n",
       "Prob(Omnibus):                  0.206   Jarque-Bera (JB):                3.499\n",
       "Skew:                          -0.033   Prob(JB):                        0.174\n",
       "Kurtosis:                       3.700   Cond. No.                         47.1\n",
       "==============================================================================\n",
       "\n",
       "Notes:\n",
       "[1] R² is computed without centering (uncentered) since the model does not contain a constant.\n",
       "[2] Standard Errors assume that the covariance matrix of the errors is correctly specified.\n",
       "\"\"\""
      ]
     },
     "execution_count": 10,
     "metadata": {},
     "output_type": "execute_result"
    }
   ],
   "source": [
    "import statsmodels.api as sm\n",
    "\n",
    "model = sm.OLS(randomforest_tuned.predict(x_train), x_train)\n",
    "model = model.fit()\n",
    "model.summary()"
   ]
  },
  {
   "cell_type": "code",
   "execution_count": null,
   "metadata": {},
   "outputs": [],
   "source": []
  },
  {
   "cell_type": "code",
   "execution_count": null,
   "metadata": {},
   "outputs": [],
   "source": []
  }
 ],
 "metadata": {
  "kernelspec": {
   "display_name": "Python 3",
   "language": "python",
   "name": "python3"
  },
  "language_info": {
   "codemirror_mode": {
    "name": "ipython",
    "version": 3
   },
   "file_extension": ".py",
   "mimetype": "text/x-python",
   "name": "python",
   "nbconvert_exporter": "python",
   "pygments_lexer": "ipython3",
   "version": "3.7.9"
  }
 },
 "nbformat": 4,
 "nbformat_minor": 4
}
