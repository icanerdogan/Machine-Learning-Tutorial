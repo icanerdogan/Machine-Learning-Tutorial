{
 "cells": [
  {
   "cell_type": "code",
   "execution_count": 80,
   "metadata": {},
   "outputs": [],
   "source": [
    "# VERİ SETİNİ GETİRME\n",
    "import seaborn as sns\n",
    "import pandas as pd\n",
    "import numpy as np\n",
    "from sklearn.impute import SimpleImputer\n",
    "\n",
    "data = sns.load_dataset(\"tips\")\n",
    "df = pd.DataFrame(data)\n",
    "\n",
    "# Eksik Verileri Ortalama ile Doldurma\n",
    "imputer = SimpleImputer(missing_values=np.nan, strategy=\"mean\")\n",
    "imputer = imputer.fit(df[[\"total_bill\"]])\n",
    "df[[\"total_bill\"]] = imputer.transform(df[[\"total_bill\"]])\n",
    "\n",
    "# Kategorik Olmayan Değişkenler\n",
    "total_bill = df[[\"total_bill\"]]\n",
    "tip = df[[\"tip\"]]\n",
    "size = df[[\"size\"]]\n",
    "\n",
    "# Ktegorik Değişkenler İçin 0-1 Dönüşümü\n",
    "smoker = pd.get_dummies(df[[\"smoker\"]])\n",
    "time = pd.get_dummies(df[[\"day\"]])\n",
    "\n",
    "# Kukla Değişkeni Silme\n",
    "smoker = smoker.drop(\"smoker_Yes\", axis=1)\n",
    "\n",
    "# Verileri Birleştirme\n",
    "new_data = pd.concat([total_bill, size, smoker, time, tip], axis=1)\n",
    "\n",
    "# Train ve Test Belirleme\n",
    "training = new_data.iloc[:, 0:7]\n",
    "testing = new_data.iloc[:, 7:8]\n",
    "\n",
    "# Train Test Ayırma\n",
    "from sklearn.model_selection import train_test_split\n",
    "\n",
    "x_train, x_test, y_train, y_test = train_test_split(training, testing, test_size=0.30, random_state=42)"
   ]
  },
  {
   "cell_type": "code",
   "execution_count": 81,
   "metadata": {},
   "outputs": [
    {
     "data": {
      "text/plain": [
       "DecisionTreeRegressor(random_state=0)"
      ]
     },
     "execution_count": 81,
     "metadata": {},
     "output_type": "execute_result"
    }
   ],
   "source": [
    "from sklearn.tree import DecisionTreeRegressor\n",
    "\n",
    "dtr = DecisionTreeRegressor(random_state = 0)\n",
    "\n",
    "dtr.fit(x_train, y_train)\n"
   ]
  },
  {
   "cell_type": "code",
   "execution_count": 82,
   "metadata": {},
   "outputs": [],
   "source": [
    "y_pred = dtr.predict(x_test)"
   ]
  },
  {
   "cell_type": "code",
   "execution_count": 84,
   "metadata": {},
   "outputs": [
    {
     "name": "stdout",
     "output_type": "stream",
     "text": [
      "    Tahmin Gerçek\n",
      "24    2.75   3.18\n",
      "6     1.32   2.00\n",
      "153   3.61   2.00\n",
      "211   2.00   5.16\n",
      "198   2.00   2.00\n",
      "..     ...    ...\n",
      "165   4.00   3.48\n",
      "154   3.00   2.00\n",
      "216   3.09   3.00\n",
      "79    3.50   2.71\n",
      "29    2.75   3.00\n",
      "\n",
      "[74 rows x 2 columns]\n"
     ]
    }
   ],
   "source": [
    "y_tahmin = pd.DataFrame(data = y_pred)\n",
    "y_tahmin.index = y_test.index\n",
    "\n",
    "result = pd.concat([y_tahmin, y_test],axis=1)\n",
    "result.columns = [[\"Tahmin\",\"Gerçek\"]]\n",
    "\n",
    "print(result)"
   ]
  },
  {
   "cell_type": "markdown",
   "metadata": {},
   "source": [
    "### Stats Model - Normal"
   ]
  },
  {
   "cell_type": "code",
   "execution_count": 85,
   "metadata": {},
   "outputs": [
    {
     "data": {
      "text/html": [
       "<table class=\"simpletable\">\n",
       "<caption>OLS Regression Results</caption>\n",
       "<tr>\n",
       "  <th>Dep. Variable:</th>            <td>y</td>        <th>  R-squared:         </th> <td>   0.494</td>\n",
       "</tr>\n",
       "<tr>\n",
       "  <th>Model:</th>                   <td>OLS</td>       <th>  Adj. R-squared:    </th> <td>   0.475</td>\n",
       "</tr>\n",
       "<tr>\n",
       "  <th>Method:</th>             <td>Least Squares</td>  <th>  F-statistic:       </th> <td>   26.52</td>\n",
       "</tr>\n",
       "<tr>\n",
       "  <th>Date:</th>             <td>Sat, 17 Oct 2020</td> <th>  Prob (F-statistic):</th> <td>6.66e-22</td>\n",
       "</tr>\n",
       "<tr>\n",
       "  <th>Time:</th>                 <td>11:10:48</td>     <th>  Log-Likelihood:    </th> <td> -247.39</td>\n",
       "</tr>\n",
       "<tr>\n",
       "  <th>No. Observations:</th>      <td>   170</td>      <th>  AIC:               </th> <td>   508.8</td>\n",
       "</tr>\n",
       "<tr>\n",
       "  <th>Df Residuals:</th>          <td>   163</td>      <th>  BIC:               </th> <td>   530.7</td>\n",
       "</tr>\n",
       "<tr>\n",
       "  <th>Df Model:</th>              <td>     6</td>      <th>                     </th>     <td> </td>   \n",
       "</tr>\n",
       "<tr>\n",
       "  <th>Covariance Type:</th>      <td>nonrobust</td>    <th>                     </th>     <td> </td>   \n",
       "</tr>\n",
       "</table>\n",
       "<table class=\"simpletable\">\n",
       "<tr>\n",
       "       <td></td>         <th>coef</th>     <th>std err</th>      <th>t</th>      <th>P>|t|</th>  <th>[0.025</th>    <th>0.975]</th>  \n",
       "</tr>\n",
       "<tr>\n",
       "  <th>total_bill</th> <td>    0.0962</td> <td>    0.011</td> <td>    8.511</td> <td> 0.000</td> <td>    0.074</td> <td>    0.119</td>\n",
       "</tr>\n",
       "<tr>\n",
       "  <th>size</th>       <td>    0.2751</td> <td>    0.109</td> <td>    2.517</td> <td> 0.013</td> <td>    0.059</td> <td>    0.491</td>\n",
       "</tr>\n",
       "<tr>\n",
       "  <th>smoker_No</th>  <td>    0.2959</td> <td>    0.180</td> <td>    1.645</td> <td> 0.102</td> <td>   -0.059</td> <td>    0.651</td>\n",
       "</tr>\n",
       "<tr>\n",
       "  <th>day_Thur</th>   <td>    0.2817</td> <td>    0.300</td> <td>    0.938</td> <td> 0.350</td> <td>   -0.311</td> <td>    0.874</td>\n",
       "</tr>\n",
       "<tr>\n",
       "  <th>day_Fri</th>    <td>    0.4295</td> <td>    0.342</td> <td>    1.257</td> <td> 0.210</td> <td>   -0.245</td> <td>    1.104</td>\n",
       "</tr>\n",
       "<tr>\n",
       "  <th>day_Sat</th>    <td>    0.2260</td> <td>    0.296</td> <td>    0.763</td> <td> 0.447</td> <td>   -0.359</td> <td>    0.811</td>\n",
       "</tr>\n",
       "<tr>\n",
       "  <th>day_Sun</th>    <td>    0.1750</td> <td>    0.325</td> <td>    0.539</td> <td> 0.591</td> <td>   -0.466</td> <td>    0.816</td>\n",
       "</tr>\n",
       "</table>\n",
       "<table class=\"simpletable\">\n",
       "<tr>\n",
       "  <th>Omnibus:</th>       <td>14.568</td> <th>  Durbin-Watson:     </th> <td>   2.000</td>\n",
       "</tr>\n",
       "<tr>\n",
       "  <th>Prob(Omnibus):</th> <td> 0.001</td> <th>  Jarque-Bera (JB):  </th> <td>  25.635</td>\n",
       "</tr>\n",
       "<tr>\n",
       "  <th>Skew:</th>          <td> 0.422</td> <th>  Prob(JB):          </th> <td>2.71e-06</td>\n",
       "</tr>\n",
       "<tr>\n",
       "  <th>Kurtosis:</th>      <td> 4.705</td> <th>  Cond. No.          </th> <td>    150.</td>\n",
       "</tr>\n",
       "</table><br/><br/>Notes:<br/>[1] Standard Errors assume that the covariance matrix of the errors is correctly specified."
      ],
      "text/plain": [
       "<class 'statsmodels.iolib.summary.Summary'>\n",
       "\"\"\"\n",
       "                            OLS Regression Results                            \n",
       "==============================================================================\n",
       "Dep. Variable:                      y   R-squared:                       0.494\n",
       "Model:                            OLS   Adj. R-squared:                  0.475\n",
       "Method:                 Least Squares   F-statistic:                     26.52\n",
       "Date:                Sat, 17 Oct 2020   Prob (F-statistic):           6.66e-22\n",
       "Time:                        11:10:48   Log-Likelihood:                -247.39\n",
       "No. Observations:                 170   AIC:                             508.8\n",
       "Df Residuals:                     163   BIC:                             530.7\n",
       "Df Model:                           6                                         \n",
       "Covariance Type:            nonrobust                                         \n",
       "==============================================================================\n",
       "                 coef    std err          t      P>|t|      [0.025      0.975]\n",
       "------------------------------------------------------------------------------\n",
       "total_bill     0.0962      0.011      8.511      0.000       0.074       0.119\n",
       "size           0.2751      0.109      2.517      0.013       0.059       0.491\n",
       "smoker_No      0.2959      0.180      1.645      0.102      -0.059       0.651\n",
       "day_Thur       0.2817      0.300      0.938      0.350      -0.311       0.874\n",
       "day_Fri        0.4295      0.342      1.257      0.210      -0.245       1.104\n",
       "day_Sat        0.2260      0.296      0.763      0.447      -0.359       0.811\n",
       "day_Sun        0.1750      0.325      0.539      0.591      -0.466       0.816\n",
       "==============================================================================\n",
       "Omnibus:                       14.568   Durbin-Watson:                   2.000\n",
       "Prob(Omnibus):                  0.001   Jarque-Bera (JB):               25.635\n",
       "Skew:                           0.422   Prob(JB):                     2.71e-06\n",
       "Kurtosis:                       4.705   Cond. No.                         150.\n",
       "==============================================================================\n",
       "\n",
       "Notes:\n",
       "[1] Standard Errors assume that the covariance matrix of the errors is correctly specified.\n",
       "\"\"\""
      ]
     },
     "execution_count": 85,
     "metadata": {},
     "output_type": "execute_result"
    }
   ],
   "source": [
    "import statsmodels.api as sm\n",
    "\n",
    "decision_tree = sm.OLS(dtr.predict(x_train), x_train)\n",
    "model = decision_tree.fit()\n",
    "model.summary()"
   ]
  },
  {
   "cell_type": "markdown",
   "metadata": {},
   "source": [
    "### MSE - Normal"
   ]
  },
  {
   "cell_type": "code",
   "execution_count": 86,
   "metadata": {},
   "outputs": [
    {
     "name": "stdout",
     "output_type": "stream",
     "text": [
      "Train RMSE:  1.0420494266419704\n",
      "Test RMSE:  0.9584301084717695\n"
     ]
    }
   ],
   "source": [
    "from sklearn.metrics import mean_squared_error \n",
    "\n",
    "mse = np.sqrt(mean_squared_error(y_train, model.predict(x_train)))\n",
    "print(\"Train RMSE: \", mse)\n",
    "mse = np.sqrt(mean_squared_error(y_test, model.predict(x_test)))\n",
    "print(\"Test RMSE: \", mse)"
   ]
  },
  {
   "cell_type": "markdown",
   "metadata": {},
   "source": [
    "### Model Tuning"
   ]
  },
  {
   "cell_type": "code",
   "execution_count": 88,
   "metadata": {},
   "outputs": [],
   "source": [
    "# Train ve Test Belirleme\n",
    "training = new_data.iloc[:, 0:2]\n",
    "testing = new_data.iloc[:, 7:8]\n",
    "\n",
    "# Train Test Ayırma\n",
    "from sklearn.model_selection import train_test_split\n",
    "\n",
    "x_train, x_test, y_train, y_test = train_test_split(training, testing, test_size=0.30, random_state=42)"
   ]
  },
  {
   "cell_type": "markdown",
   "metadata": {},
   "source": [
    "### Stats Model - Tuned"
   ]
  },
  {
   "cell_type": "code",
   "execution_count": 89,
   "metadata": {},
   "outputs": [
    {
     "data": {
      "text/html": [
       "<table class=\"simpletable\">\n",
       "<caption>OLS Regression Results</caption>\n",
       "<tr>\n",
       "  <th>Dep. Variable:</th>            <td>y</td>        <th>  R-squared (uncentered):</th>      <td>   0.905</td>\n",
       "</tr>\n",
       "<tr>\n",
       "  <th>Model:</th>                   <td>OLS</td>       <th>  Adj. R-squared (uncentered):</th> <td>   0.904</td>\n",
       "</tr>\n",
       "<tr>\n",
       "  <th>Method:</th>             <td>Least Squares</td>  <th>  F-statistic:       </th>          <td>   797.8</td>\n",
       "</tr>\n",
       "<tr>\n",
       "  <th>Date:</th>             <td>Sat, 17 Oct 2020</td> <th>  Prob (F-statistic):</th>          <td>1.69e-86</td>\n",
       "</tr>\n",
       "<tr>\n",
       "  <th>Time:</th>                 <td>11:14:58</td>     <th>  Log-Likelihood:    </th>          <td> -250.15</td>\n",
       "</tr>\n",
       "<tr>\n",
       "  <th>No. Observations:</th>      <td>   170</td>      <th>  AIC:               </th>          <td>   504.3</td>\n",
       "</tr>\n",
       "<tr>\n",
       "  <th>Df Residuals:</th>          <td>   168</td>      <th>  BIC:               </th>          <td>   510.6</td>\n",
       "</tr>\n",
       "<tr>\n",
       "  <th>Df Model:</th>              <td>     2</td>      <th>                     </th>              <td> </td>   \n",
       "</tr>\n",
       "<tr>\n",
       "  <th>Covariance Type:</th>      <td>nonrobust</td>    <th>                     </th>              <td> </td>   \n",
       "</tr>\n",
       "</table>\n",
       "<table class=\"simpletable\">\n",
       "<tr>\n",
       "       <td></td>         <th>coef</th>     <th>std err</th>      <th>t</th>      <th>P>|t|</th>  <th>[0.025</th>    <th>0.975]</th>  \n",
       "</tr>\n",
       "<tr>\n",
       "  <th>total_bill</th> <td>    0.0963</td> <td>    0.010</td> <td>    9.219</td> <td> 0.000</td> <td>    0.076</td> <td>    0.117</td>\n",
       "</tr>\n",
       "<tr>\n",
       "  <th>size</th>       <td>    0.4203</td> <td>    0.085</td> <td>    4.966</td> <td> 0.000</td> <td>    0.253</td> <td>    0.587</td>\n",
       "</tr>\n",
       "</table>\n",
       "<table class=\"simpletable\">\n",
       "<tr>\n",
       "  <th>Omnibus:</th>       <td> 8.731</td> <th>  Durbin-Watson:     </th> <td>   1.960</td>\n",
       "</tr>\n",
       "<tr>\n",
       "  <th>Prob(Omnibus):</th> <td> 0.013</td> <th>  Jarque-Bera (JB):  </th> <td>  17.772</td>\n",
       "</tr>\n",
       "<tr>\n",
       "  <th>Skew:</th>          <td> 0.005</td> <th>  Prob(JB):          </th> <td>0.000138</td>\n",
       "</tr>\n",
       "<tr>\n",
       "  <th>Kurtosis:</th>      <td> 4.584</td> <th>  Cond. No.          </th> <td>    23.5</td>\n",
       "</tr>\n",
       "</table><br/><br/>Notes:<br/>[1] R² is computed without centering (uncentered) since the model does not contain a constant.<br/>[2] Standard Errors assume that the covariance matrix of the errors is correctly specified."
      ],
      "text/plain": [
       "<class 'statsmodels.iolib.summary.Summary'>\n",
       "\"\"\"\n",
       "                                 OLS Regression Results                                \n",
       "=======================================================================================\n",
       "Dep. Variable:                      y   R-squared (uncentered):                   0.905\n",
       "Model:                            OLS   Adj. R-squared (uncentered):              0.904\n",
       "Method:                 Least Squares   F-statistic:                              797.8\n",
       "Date:                Sat, 17 Oct 2020   Prob (F-statistic):                    1.69e-86\n",
       "Time:                        11:14:58   Log-Likelihood:                         -250.15\n",
       "No. Observations:                 170   AIC:                                      504.3\n",
       "Df Residuals:                     168   BIC:                                      510.6\n",
       "Df Model:                           2                                                  \n",
       "Covariance Type:            nonrobust                                                  \n",
       "==============================================================================\n",
       "                 coef    std err          t      P>|t|      [0.025      0.975]\n",
       "------------------------------------------------------------------------------\n",
       "total_bill     0.0963      0.010      9.219      0.000       0.076       0.117\n",
       "size           0.4203      0.085      4.966      0.000       0.253       0.587\n",
       "==============================================================================\n",
       "Omnibus:                        8.731   Durbin-Watson:                   1.960\n",
       "Prob(Omnibus):                  0.013   Jarque-Bera (JB):               17.772\n",
       "Skew:                           0.005   Prob(JB):                     0.000138\n",
       "Kurtosis:                       4.584   Cond. No.                         23.5\n",
       "==============================================================================\n",
       "\n",
       "Notes:\n",
       "[1] R² is computed without centering (uncentered) since the model does not contain a constant.\n",
       "[2] Standard Errors assume that the covariance matrix of the errors is correctly specified.\n",
       "\"\"\""
      ]
     },
     "execution_count": 89,
     "metadata": {},
     "output_type": "execute_result"
    }
   ],
   "source": [
    "import statsmodels.api as sm\n",
    "from sklearn.tree import DecisionTreeRegressor\n",
    "\n",
    "dtr = DecisionTreeRegressor(random_state = 0)\n",
    "dtr.fit(x_train, y_train)\n",
    "\n",
    "decision_tree = sm.OLS(dtr.predict(x_train), x_train)\n",
    "model = decision_tree.fit()\n",
    "model.summary()\n"
   ]
  },
  {
   "cell_type": "markdown",
   "metadata": {},
   "source": [
    "### MSE - Tuned"
   ]
  },
  {
   "cell_type": "code",
   "execution_count": 90,
   "metadata": {},
   "outputs": [
    {
     "name": "stdout",
     "output_type": "stream",
     "text": [
      "Train RMSE:  1.0617040982230845\n",
      "Test RMSE:  0.9700308638353677\n"
     ]
    }
   ],
   "source": [
    "from sklearn.metrics import mean_squared_error \n",
    "\n",
    "mse = np.sqrt(mean_squared_error(y_train, model.predict(x_train)))\n",
    "print(\"Train RMSE: \", mse)\n",
    "mse = np.sqrt(mean_squared_error(y_test, model.predict(x_test)))\n",
    "print(\"Test RMSE: \", mse)"
   ]
  },
  {
   "cell_type": "code",
   "execution_count": null,
   "metadata": {},
   "outputs": [],
   "source": []
  }
 ],
 "metadata": {
  "kernelspec": {
   "display_name": "Python 3",
   "language": "python",
   "name": "python3"
  },
  "language_info": {
   "codemirror_mode": {
    "name": "ipython",
    "version": 3
   },
   "file_extension": ".py",
   "mimetype": "text/x-python",
   "name": "python",
   "nbconvert_exporter": "python",
   "pygments_lexer": "ipython3",
   "version": "3.7.9"
  }
 },
 "nbformat": 4,
 "nbformat_minor": 4
}
