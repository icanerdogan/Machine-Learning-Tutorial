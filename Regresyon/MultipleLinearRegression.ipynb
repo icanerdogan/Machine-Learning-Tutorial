{
 "cells": [
  {
   "cell_type": "code",
   "execution_count": 10,
   "metadata": {},
   "outputs": [],
   "source": [
    "# VERİ SETİNİ GETİRME\n",
    "import seaborn as sns\n",
    "import pandas as pd\n",
    "import numpy as np\n",
    "from sklearn.impute import SimpleImputer\n",
    "\n",
    "data = sns.load_dataset(\"tips\")\n",
    "df = pd.DataFrame(data)\n",
    "\n",
    "# Eksik Verileri Ortalama ile Doldurma\n",
    "imputer = SimpleImputer(missing_values=np.nan, strategy=\"mean\")\n",
    "imputer = imputer.fit(df[[\"total_bill\"]])\n",
    "df[[\"total_bill\"]] = imputer.transform(df[[\"total_bill\"]])\n",
    "\n",
    "# Kategorik Olmayan Değişkenler\n",
    "total_bill = df[[\"total_bill\"]]\n",
    "tip = df[[\"tip\"]]\n",
    "size = df[[\"size\"]]\n",
    "\n",
    "# Ktegorik Değişkenler İçin 0-1 Dönüşümü\n",
    "smoker = pd.get_dummies(df[[\"smoker\"]])\n",
    "time = pd.get_dummies(df[[\"day\"]])\n",
    "\n",
    "# Kukla Değişkeni Silme\n",
    "smoker = smoker.drop(\"smoker_Yes\", axis=1)\n",
    "\n",
    "# Verileri Birleştirme\n",
    "new_data = pd.concat([total_bill, size, smoker, time, tip], axis=1)\n",
    "\n",
    "# Train ve Test Belirleme\n",
    "training = new_data.iloc[:, 0:7]\n",
    "testing = new_data.iloc[:, 7:8]\n",
    "\n",
    "# Train Test Ayırma\n",
    "from sklearn.model_selection import train_test_split\n",
    "\n",
    "x_train, x_test, y_train, y_test = train_test_split(training, testing, test_size=0.30, random_state=42)"
   ]
  },
  {
   "cell_type": "code",
   "execution_count": 11,
   "metadata": {},
   "outputs": [],
   "source": [
    "from sklearn.linear_model import LinearRegression\n",
    "multilinear_reg = LinearRegression()\n",
    "model = multilinear_reg.fit(x_train, y_train)"
   ]
  },
  {
   "cell_type": "code",
   "execution_count": 12,
   "metadata": {},
   "outputs": [
    {
     "data": {
      "text/plain": [
       "array([0.27803791])"
      ]
     },
     "execution_count": 12,
     "metadata": {},
     "output_type": "execute_result"
    }
   ],
   "source": [
    "model.intercept_"
   ]
  },
  {
   "cell_type": "code",
   "execution_count": 13,
   "metadata": {},
   "outputs": [
    {
     "data": {
      "text/plain": [
       "array([[ 0.0962309 ,  0.27509438,  0.29590809,  0.00362031,  0.15143982,\n",
       "        -0.05206352, -0.10299662]])"
      ]
     },
     "execution_count": 13,
     "metadata": {},
     "output_type": "execute_result"
    }
   ],
   "source": [
    "model.coef_"
   ]
  },
  {
   "cell_type": "code",
   "execution_count": 14,
   "metadata": {},
   "outputs": [
    {
     "name": "stdout",
     "output_type": "stream",
     "text": [
      "[[2.97936772]\n",
      " [1.86508315]\n",
      " [3.93379554]\n",
      " [3.81776996]\n",
      " [2.0828487 ]\n",
      " [2.44680088]\n",
      " [3.56865383]\n",
      " [2.32871673]\n",
      " [2.44343087]\n",
      " [2.45969776]\n",
      " [2.78120134]\n",
      " [2.10847806]\n",
      " [2.15261418]\n",
      " [2.11865351]\n",
      " [1.82170588]\n",
      " [3.19659346]\n",
      " [2.90742153]\n",
      " [3.097801  ]\n",
      " [2.65506958]\n",
      " [5.91678906]\n",
      " [3.61327736]\n",
      " [3.33433375]\n",
      " [2.15322736]\n",
      " [1.99107636]\n",
      " [3.01155028]\n",
      " [2.25269432]\n",
      " [2.00942951]\n",
      " [3.20888035]\n",
      " [3.15817447]\n",
      " [6.7569582 ]\n",
      " [4.95974296]\n",
      " [1.52099033]\n",
      " [3.33613236]\n",
      " [2.72868815]\n",
      " [2.92927093]\n",
      " [3.99518395]\n",
      " [2.13732424]\n",
      " [5.53054992]\n",
      " [2.39415374]\n",
      " [2.95771769]\n",
      " [2.08345802]\n",
      " [2.52502777]\n",
      " [3.32586824]\n",
      " [2.29029774]\n",
      " [1.82687451]\n",
      " [0.79649764]\n",
      " [1.7952484 ]\n",
      " [3.14572118]\n",
      " [1.85526069]\n",
      " [2.35001762]\n",
      " [3.11168714]\n",
      " [3.60484549]\n",
      " [4.6228088 ]\n",
      " [2.66552489]\n",
      " [2.89667842]\n",
      " [2.38164373]\n",
      " [1.42290409]\n",
      " [2.78690591]\n",
      " [2.95717789]\n",
      " [2.56112038]\n",
      " [4.7189137 ]\n",
      " [2.68689505]\n",
      " [2.97029699]\n",
      " [2.54534326]\n",
      " [3.01882239]\n",
      " [3.08522171]\n",
      " [2.22058899]\n",
      " [1.4946509 ]\n",
      " [3.61003721]\n",
      " [3.65581424]\n",
      " [3.47381183]\n",
      " [4.31034617]\n",
      " [2.79158737]\n",
      " [2.96300846]]\n"
     ]
    }
   ],
   "source": [
    "y_pred = multilinear_reg.predict(x_test)\n",
    "print(y_pred)"
   ]
  },
  {
   "cell_type": "code",
   "execution_count": 15,
   "metadata": {},
   "outputs": [
    {
     "name": "stdout",
     "output_type": "stream",
     "text": [
      "       Tahmin Gerçek\n",
      "24   2.979368   3.18\n",
      "6    1.865083   2.00\n",
      "153  3.933796   2.00\n",
      "211  3.817770   5.16\n",
      "198  2.082849   2.00\n",
      "..        ...    ...\n",
      "165  3.655814   3.48\n",
      "154  3.473812   2.00\n",
      "216  4.310346   3.00\n",
      "79   2.791587   2.71\n",
      "29   2.963008   3.00\n",
      "\n",
      "[74 rows x 2 columns]\n"
     ]
    }
   ],
   "source": [
    "y_tahmin=pd.DataFrame(data = y_pred)\n",
    "y_tahmin.index=y_test.index\n",
    "\n",
    "result=pd.concat([y_tahmin, y_test],axis=1)\n",
    "result.columns=[[\"Tahmin\",\"Gerçek\"]]\n",
    "\n",
    "print(result)"
   ]
  },
  {
   "cell_type": "markdown",
   "metadata": {},
   "source": [
    "### Stats Model"
   ]
  },
  {
   "cell_type": "code",
   "execution_count": 18,
   "metadata": {},
   "outputs": [
    {
     "data": {
      "text/html": [
       "<table class=\"simpletable\">\n",
       "<caption>OLS Regression Results</caption>\n",
       "<tr>\n",
       "  <th>Dep. Variable:</th>           <td>tip</td>       <th>  R-squared:         </th> <td>   0.492</td>\n",
       "</tr>\n",
       "<tr>\n",
       "  <th>Model:</th>                   <td>OLS</td>       <th>  Adj. R-squared:    </th> <td>   0.473</td>\n",
       "</tr>\n",
       "<tr>\n",
       "  <th>Method:</th>             <td>Least Squares</td>  <th>  F-statistic:       </th> <td>   26.26</td>\n",
       "</tr>\n",
       "<tr>\n",
       "  <th>Date:</th>             <td>Sat, 17 Oct 2020</td> <th>  Prob (F-statistic):</th> <td>9.78e-22</td>\n",
       "</tr>\n",
       "<tr>\n",
       "  <th>Time:</th>                 <td>09:54:21</td>     <th>  Log-Likelihood:    </th> <td> -248.22</td>\n",
       "</tr>\n",
       "<tr>\n",
       "  <th>No. Observations:</th>      <td>   170</td>      <th>  AIC:               </th> <td>   510.4</td>\n",
       "</tr>\n",
       "<tr>\n",
       "  <th>Df Residuals:</th>          <td>   163</td>      <th>  BIC:               </th> <td>   532.4</td>\n",
       "</tr>\n",
       "<tr>\n",
       "  <th>Df Model:</th>              <td>     6</td>      <th>                     </th>     <td> </td>   \n",
       "</tr>\n",
       "<tr>\n",
       "  <th>Covariance Type:</th>      <td>nonrobust</td>    <th>                     </th>     <td> </td>   \n",
       "</tr>\n",
       "</table>\n",
       "<table class=\"simpletable\">\n",
       "<tr>\n",
       "       <td></td>         <th>coef</th>     <th>std err</th>      <th>t</th>      <th>P>|t|</th>  <th>[0.025</th>    <th>0.975]</th>  \n",
       "</tr>\n",
       "<tr>\n",
       "  <th>total_bill</th> <td>    0.0962</td> <td>    0.011</td> <td>    8.469</td> <td> 0.000</td> <td>    0.074</td> <td>    0.119</td>\n",
       "</tr>\n",
       "<tr>\n",
       "  <th>size</th>       <td>    0.2751</td> <td>    0.110</td> <td>    2.505</td> <td> 0.013</td> <td>    0.058</td> <td>    0.492</td>\n",
       "</tr>\n",
       "<tr>\n",
       "  <th>smoker_No</th>  <td>    0.2959</td> <td>    0.181</td> <td>    1.637</td> <td> 0.104</td> <td>   -0.061</td> <td>    0.653</td>\n",
       "</tr>\n",
       "<tr>\n",
       "  <th>day_Thur</th>   <td>    0.2817</td> <td>    0.302</td> <td>    0.934</td> <td> 0.352</td> <td>   -0.314</td> <td>    0.877</td>\n",
       "</tr>\n",
       "<tr>\n",
       "  <th>day_Fri</th>    <td>    0.4295</td> <td>    0.343</td> <td>    1.251</td> <td> 0.213</td> <td>   -0.248</td> <td>    1.107</td>\n",
       "</tr>\n",
       "<tr>\n",
       "  <th>day_Sat</th>    <td>    0.2260</td> <td>    0.298</td> <td>    0.759</td> <td> 0.449</td> <td>   -0.362</td> <td>    0.814</td>\n",
       "</tr>\n",
       "<tr>\n",
       "  <th>day_Sun</th>    <td>    0.1750</td> <td>    0.326</td> <td>    0.536</td> <td> 0.593</td> <td>   -0.470</td> <td>    0.820</td>\n",
       "</tr>\n",
       "</table>\n",
       "<table class=\"simpletable\">\n",
       "<tr>\n",
       "  <th>Omnibus:</th>       <td>14.089</td> <th>  Durbin-Watson:     </th> <td>   2.037</td>\n",
       "</tr>\n",
       "<tr>\n",
       "  <th>Prob(Omnibus):</th> <td> 0.001</td> <th>  Jarque-Bera (JB):  </th> <td>  23.778</td>\n",
       "</tr>\n",
       "<tr>\n",
       "  <th>Skew:</th>          <td> 0.423</td> <th>  Prob(JB):          </th> <td>6.86e-06</td>\n",
       "</tr>\n",
       "<tr>\n",
       "  <th>Kurtosis:</th>      <td> 4.625</td> <th>  Cond. No.          </th> <td>    150.</td>\n",
       "</tr>\n",
       "</table><br/><br/>Notes:<br/>[1] Standard Errors assume that the covariance matrix of the errors is correctly specified."
      ],
      "text/plain": [
       "<class 'statsmodels.iolib.summary.Summary'>\n",
       "\"\"\"\n",
       "                            OLS Regression Results                            \n",
       "==============================================================================\n",
       "Dep. Variable:                    tip   R-squared:                       0.492\n",
       "Model:                            OLS   Adj. R-squared:                  0.473\n",
       "Method:                 Least Squares   F-statistic:                     26.26\n",
       "Date:                Sat, 17 Oct 2020   Prob (F-statistic):           9.78e-22\n",
       "Time:                        09:54:21   Log-Likelihood:                -248.22\n",
       "No. Observations:                 170   AIC:                             510.4\n",
       "Df Residuals:                     163   BIC:                             532.4\n",
       "Df Model:                           6                                         \n",
       "Covariance Type:            nonrobust                                         \n",
       "==============================================================================\n",
       "                 coef    std err          t      P>|t|      [0.025      0.975]\n",
       "------------------------------------------------------------------------------\n",
       "total_bill     0.0962      0.011      8.469      0.000       0.074       0.119\n",
       "size           0.2751      0.110      2.505      0.013       0.058       0.492\n",
       "smoker_No      0.2959      0.181      1.637      0.104      -0.061       0.653\n",
       "day_Thur       0.2817      0.302      0.934      0.352      -0.314       0.877\n",
       "day_Fri        0.4295      0.343      1.251      0.213      -0.248       1.107\n",
       "day_Sat        0.2260      0.298      0.759      0.449      -0.362       0.814\n",
       "day_Sun        0.1750      0.326      0.536      0.593      -0.470       0.820\n",
       "==============================================================================\n",
       "Omnibus:                       14.089   Durbin-Watson:                   2.037\n",
       "Prob(Omnibus):                  0.001   Jarque-Bera (JB):               23.778\n",
       "Skew:                           0.423   Prob(JB):                     6.86e-06\n",
       "Kurtosis:                       4.625   Cond. No.                         150.\n",
       "==============================================================================\n",
       "\n",
       "Notes:\n",
       "[1] Standard Errors assume that the covariance matrix of the errors is correctly specified.\n",
       "\"\"\""
      ]
     },
     "execution_count": 18,
     "metadata": {},
     "output_type": "execute_result"
    }
   ],
   "source": [
    "import statsmodels.api as sm\n",
    "\n",
    "lm = sm.OLS(y_train, x_train)\n",
    "model = lm.fit()\n",
    "model.summary()"
   ]
  },
  {
   "cell_type": "markdown",
   "metadata": {},
   "source": [
    "### MSE\n",
    "\n",
    "İstatistikte, bir tahmin edicinin ortalama karesi alınmış hatası veya ortalama kare sapması, hataların karelerinin ortalamasını, yani, tahmin edilen değerler ile gerçek değer arasındaki ortalama kare farkını ölçer. MSE, kare hata kaybının beklenen değerine karşılık gelen bir risk fonksiyonudur."
   ]
  },
  {
   "cell_type": "code",
   "execution_count": null,
   "metadata": {},
   "outputs": [],
   "source": [
    "from sklearn.metrics import mean_squared_error \n",
    "\n",
    "rmse = np.sqrt(mean_squared_error(y_train, model.predict(x_train)))\n",
    "print(\"Train RMSE: \", rmse)\n",
    "rmse = np.sqrt(mean_squared_error(y_test, model.predict(x_test)))\n",
    "print(\"Test RMSE: \", rmse)"
   ]
  },
  {
   "cell_type": "markdown",
   "metadata": {},
   "source": [
    "### Predict"
   ]
  },
  {
   "cell_type": "code",
   "execution_count": 222,
   "metadata": {},
   "outputs": [
    {
     "name": "stdout",
     "output_type": "stream",
     "text": [
      "Total Bill: 20\n",
      "Size: 5\n",
      "Smoker? (0 & 1): 1\n",
      "is it Thursday? (0 & 1): 1\n",
      "is it Friday? (0 & 1): 0\n",
      "is it Saturday? (0 & 1): 0\n",
      "is it Sunday? (0 & 1): 0\n",
      "Tahmin:  3.254812927912407\n"
     ]
    }
   ],
   "source": [
    "total_bill = int(input(\"Total Bill: \"))\n",
    "size = int(input(\"Size: \"))\n",
    "smoker = int(input(\"Smoker? (0 & 1): \"))\n",
    "thursday = int(input(\"is it Thursday? (0 & 1): \"))\n",
    "friday = int(input(\"is it Friday? (0 & 1): \"))\n",
    "saturday = int(input(\"is it Saturday? (0 & 1): \"))\n",
    "sunday = int(input(\"is it Sunday? (0 & 1): \"))\n",
    "\n",
    "tahmin = [total_bill, size, smoker, thursday, friday, saturday, sunday]\n",
    "\n",
    "sabit = multilinear_reg.intercept_[0]\n",
    "total_bill_weight = multilinear_reg.coef_[:, 0] * tahmin[0]\n",
    "size_weight = multilinear_reg.coef_[:, 0:1] * tahmin[1]\n",
    "smoker_weight = multilinear_reg.coef_[:, 1:2] * tahmin[2]\n",
    "Thur_weight = multilinear_reg.coef_[:, 2:3] * tahmin[3]\n",
    "Fri_weight = multilinear_reg.coef_[:, 3:4] * tahmin[4]\n",
    "Sat_weight = multilinear_reg.coef_[:, 4:5] * tahmin[5]\n",
    "Sun_weight = multilinear_reg.coef_[:, 5:6] * tahmin[6]\n",
    "\n",
    "result = sabit + total_bill_weight + size_weight + smoker_weight + Thur_weight + Fri_weight + Sat_weight + Sun_weight\n",
    "print(\"Tahmin: \", result[:,0][0])\n"
   ]
  },
  {
   "cell_type": "code",
   "execution_count": null,
   "metadata": {},
   "outputs": [],
   "source": []
  },
  {
   "cell_type": "code",
   "execution_count": null,
   "metadata": {},
   "outputs": [],
   "source": []
  },
  {
   "cell_type": "code",
   "execution_count": null,
   "metadata": {},
   "outputs": [],
   "source": []
  },
  {
   "cell_type": "code",
   "execution_count": null,
   "metadata": {},
   "outputs": [],
   "source": []
  },
  {
   "cell_type": "code",
   "execution_count": null,
   "metadata": {},
   "outputs": [],
   "source": []
  },
  {
   "cell_type": "code",
   "execution_count": null,
   "metadata": {},
   "outputs": [],
   "source": []
  },
  {
   "cell_type": "code",
   "execution_count": null,
   "metadata": {},
   "outputs": [],
   "source": []
  },
  {
   "cell_type": "code",
   "execution_count": null,
   "metadata": {},
   "outputs": [],
   "source": []
  }
 ],
 "metadata": {
  "kernelspec": {
   "display_name": "Python 3",
   "language": "python",
   "name": "python3"
  },
  "language_info": {
   "codemirror_mode": {
    "name": "ipython",
    "version": 3
   },
   "file_extension": ".py",
   "mimetype": "text/x-python",
   "name": "python",
   "nbconvert_exporter": "python",
   "pygments_lexer": "ipython3",
   "version": "3.7.9"
  }
 },
 "nbformat": 4,
 "nbformat_minor": 4
}
