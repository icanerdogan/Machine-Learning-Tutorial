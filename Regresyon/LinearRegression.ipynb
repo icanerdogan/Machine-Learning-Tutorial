{
 "cells": [
  {
   "cell_type": "code",
   "execution_count": 22,
   "metadata": {},
   "outputs": [],
   "source": [
    "# VERİ SETİNİ GETİRME\n",
    "import seaborn as sns\n",
    "import pandas as pd\n",
    "import numpy as np\n",
    "from sklearn.impute import SimpleImputer\n",
    "\n",
    "data = sns.load_dataset(\"tips\")\n",
    "df = pd.DataFrame(data)\n",
    "\n",
    "# Eksik Verileri Ortalama ile Doldurma\n",
    "imputer = SimpleImputer(missing_values=np.nan, strategy=\"mean\")\n",
    "imputer = imputer.fit(df[[\"total_bill\"]])\n",
    "df[[\"total_bill\"]] = imputer.transform(df[[\"total_bill\"]])\n",
    "\n",
    "# Kategorik Olmayan Değişkenler\n",
    "total_bill = df[[\"total_bill\"]]\n",
    "tip = df[[\"tip\"]]\n",
    "size = df[[\"size\"]]\n",
    "\n",
    "# Ktegorik Değişkenler İçin 0-1 Dönüşümü\n",
    "smoker = pd.get_dummies(df[[\"smoker\"]])\n",
    "time = pd.get_dummies(df[[\"day\"]])\n",
    "\n",
    "# Kukla Değişkeni Silme\n",
    "smoker = smoker.drop(\"smoker_Yes\", axis=1)\n",
    "\n",
    "# Verileri Birleştirme\n",
    "new_data = pd.concat([total_bill, size, smoker, time, tip], axis=1)\n",
    "\n",
    "# Train ve Test Belirleme\n",
    "training = new_data.iloc[:, 0:1]\n",
    "testing = new_data.iloc[:, 7:8]\n",
    "\n",
    "# Train Test Ayırma\n",
    "from sklearn.model_selection import train_test_split\n",
    "\n",
    "x_train, x_test, y_train, y_test = train_test_split(training, testing, test_size=0.30, random_state=42)"
   ]
  },
  {
   "cell_type": "code",
   "execution_count": 23,
   "metadata": {},
   "outputs": [],
   "source": [
    "from sklearn.linear_model import LinearRegression"
   ]
  },
  {
   "cell_type": "code",
   "execution_count": 24,
   "metadata": {},
   "outputs": [
    {
     "data": {
      "text/plain": [
       "LinearRegression()"
      ]
     },
     "execution_count": 24,
     "metadata": {},
     "output_type": "execute_result"
    }
   ],
   "source": [
    "linear_reg = LinearRegression()\n",
    "linear_reg.fit(x_train, y_train)"
   ]
  },
  {
   "cell_type": "code",
   "execution_count": 25,
   "metadata": {},
   "outputs": [],
   "source": [
    "y_pred = linear_reg.predict(x_test)"
   ]
  },
  {
   "cell_type": "code",
   "execution_count": 26,
   "metadata": {},
   "outputs": [
    {
     "name": "stdout",
     "output_type": "stream",
     "text": [
      "Train R2 Score:  0.45555590764504406\n",
      "Test R2 Score:  0.4291782688312412\n",
      "Ortalama Test Hatası:  0.86743935521794\n",
      "Ortalama Train Hatası:  1.0783029500384542\n",
      "Sabit Katsayı:  0.8769576391532707\n",
      "Ağırlıklar:  [[0.10889371]]\n"
     ]
    }
   ],
   "source": [
    "from sklearn.metrics import r2_score, mean_squared_error\n",
    "\n",
    "print(\"Train R2 Score: \", r2_score(y_train, linear_reg.predict(x_train)))\n",
    "print(\"Test R2 Score: \", r2_score(y_test, linear_reg.predict(x_test)))\n",
    "\n",
    "print(\"Ortalama Test Hatası: \", np.sqrt(mean_squared_error(y_test, y_pred)))\n",
    "print(\"Ortalama Train Hatası: \", np.sqrt(mean_squared_error(y_train, linear_reg.predict(x_train))))\n",
    "\n",
    "print(\"Sabit Katsayı: \", linear_reg.intercept_[0])\n",
    "print(\"Ağırlıklar: \", linear_reg.coef_)"
   ]
  },
  {
   "cell_type": "code",
   "execution_count": 28,
   "metadata": {},
   "outputs": [
    {
     "name": "stdout",
     "output_type": "stream",
     "text": [
      "Toplam Ücreti Giriniz: 15\n",
      "Tahmin:  [2.51036328]\n"
     ]
    }
   ],
   "source": [
    "deger = int(input(\"Toplam Ücreti Giriniz: \"))\n",
    "print(\"Tahmin: \", linear_reg.intercept_[0] + linear_reg.coef_[:, 0] * deger)"
   ]
  },
  {
   "cell_type": "code",
   "execution_count": 44,
   "metadata": {},
   "outputs": [
    {
     "name": "stdout",
     "output_type": "stream",
     "text": [
      "      Tahmin   tip\n",
      "0   3.035231  3.18\n",
      "1   1.831955  2.00\n",
      "2   3.550298  2.00\n",
      "3   3.696216  5.16\n",
      "4   2.292576  2.00\n",
      "..       ...   ...\n",
      "69  3.547031  3.48\n",
      "70  3.029786  2.00\n",
      "71  3.942316  3.00\n",
      "72  2.759730  2.71\n",
      "73  3.016719  3.00\n",
      "\n",
      "[74 rows x 2 columns]\n"
     ]
    }
   ],
   "source": [
    "y_pred = pd.DataFrame(data=y_pred, index=range(len(y_pred)), columns=[\"Tahmin\"])\n",
    "\n",
    "y_test.index = y_pred.index\n",
    "comparison = pd.concat([y_pred, y_test], axis=1)\n",
    "\n",
    "print(comparison)"
   ]
  },
  {
   "cell_type": "markdown",
   "metadata": {},
   "source": [
    "### GÖRSELLEŞTİRME"
   ]
  },
  {
   "cell_type": "code",
   "execution_count": 106,
   "metadata": {},
   "outputs": [
    {
     "data": {
      "image/png": "[encoded data removed]",
      "text/plain": [
       "<Figure size 432x288 with 1 Axes>"
      ]
     },
     "metadata": {},
     "output_type": "display_data"
    }
   ],
   "source": [
    "\n",
    "plt.scatter(x_train, y_train, color = 'red')\n",
    "plt.plot(x_train, linear_reg.predict(x_train), color = 'blue')\n",
    "\n",
    "plt.title('Linear Regression')\n",
    "plt.xlabel('Total Bill')\n",
    "plt.ylabel('Tip')\n",
    "plt.show()\n"
   ]
  },
  {
   "cell_type": "code",
   "execution_count": null,
   "metadata": {},
   "outputs": [],
   "source": []
  }
 ],
 "metadata": {
  "kernelspec": {
   "display_name": "Python 3",
   "language": "python",
   "name": "python3"
  },
  "language_info": {
   "codemirror_mode": {
    "name": "ipython",
    "version": 3
   },
   "file_extension": ".py",
   "mimetype": "text/x-python",
   "name": "python",
   "nbconvert_exporter": "python",
   "pygments_lexer": "ipython3",
   "version": "3.7.9"
  }
 },
 "nbformat": 4,
 "nbformat_minor": 4
}
