{
 "cells": [
  {
   "cell_type": "code",
   "execution_count": 9,
   "metadata": {},
   "outputs": [],
   "source": [
    "# VERİ SETİNİ GETİRME\n",
    "import seaborn as sns\n",
    "import pandas as pd\n",
    "import numpy as np\n",
    "from sklearn.impute import SimpleImputer\n",
    "\n",
    "data = sns.load_dataset(\"tips\")\n",
    "df = pd.DataFrame(data)\n",
    "\n",
    "# Eksik Verileri Ortalama ile Doldurma\n",
    "imputer = SimpleImputer(missing_values=np.nan, strategy=\"mean\")\n",
    "imputer = imputer.fit(df[[\"total_bill\"]])\n",
    "df[[\"total_bill\"]] = imputer.transform(df[[\"total_bill\"]])\n",
    "\n",
    "# Kategorik Olmayan Değişkenler\n",
    "total_bill = df[[\"total_bill\"]]\n",
    "tip = df[[\"tip\"]]\n",
    "size = df[[\"size\"]]\n",
    "\n",
    "# Ktegorik Değişkenler İçin 0-1 Dönüşümü\n",
    "smoker = pd.get_dummies(df[[\"smoker\"]])\n",
    "time = pd.get_dummies(df[[\"day\"]])\n",
    "\n",
    "# Kukla Değişkeni Silme\n",
    "smoker = smoker.drop(\"smoker_Yes\", axis=1)\n",
    "\n",
    "# Verileri Birleştirme\n",
    "new_data = pd.concat([total_bill, size, smoker, time, tip], axis=1)\n",
    "\n",
    "# Train ve Test Belirleme\n",
    "training = new_data.iloc[:, 0:7]\n",
    "testing = new_data.iloc[:, 7:8]\n",
    "\n",
    "# Train Test Ayırma\n",
    "from sklearn.model_selection import train_test_split\n",
    "\n",
    "x_train, x_test, y_train, y_test = train_test_split(training, testing, test_size=0.30, random_state=42)"
   ]
  },
  {
   "cell_type": "markdown",
   "metadata": {},
   "source": [
    "### Model"
   ]
  },
  {
   "cell_type": "code",
   "execution_count": 10,
   "metadata": {},
   "outputs": [
    {
     "data": {
      "text/plain": [
       "LinearRegression()"
      ]
     },
     "execution_count": 10,
     "metadata": {},
     "output_type": "execute_result"
    }
   ],
   "source": [
    "from sklearn.linear_model import LinearRegression\n",
    "\n",
    "linear_reg = LinearRegression()\n",
    "linear_reg.fit(x_train, y_train)"
   ]
  },
  {
   "cell_type": "code",
   "execution_count": 11,
   "metadata": {},
   "outputs": [],
   "source": [
    "from sklearn.preprocessing import PolynomialFeatures\n",
    "\n",
    "polynomial_reg = PolynomialFeatures(degree=3)\n",
    "xp = polynomial_reg.fit_transform(x_train)"
   ]
  },
  {
   "cell_type": "code",
   "execution_count": 12,
   "metadata": {},
   "outputs": [
    {
     "data": {
      "text/plain": [
       "LinearRegression()"
      ]
     },
     "execution_count": 12,
     "metadata": {},
     "output_type": "execute_result"
    }
   ],
   "source": [
    "linear_reg2=LinearRegression()\n",
    "linear_reg2.fit(xp, y_train)"
   ]
  },
  {
   "cell_type": "markdown",
   "metadata": {},
   "source": [
    "### İstenilen Tahmin"
   ]
  },
  {
   "cell_type": "code",
   "execution_count": 13,
   "metadata": {},
   "outputs": [
    {
     "name": "stdout",
     "output_type": "stream",
     "text": [
      "[[2.82949043]]\n"
     ]
    }
   ],
   "source": [
    "print(linear_reg2.predict(polynomial_reg.fit_transform([[16.99,2,1,0,0,0,1]])))"
   ]
  },
  {
   "cell_type": "markdown",
   "metadata": {},
   "source": [
    "### MSE"
   ]
  },
  {
   "cell_type": "code",
   "execution_count": 15,
   "metadata": {},
   "outputs": [
    {
     "name": "stdout",
     "output_type": "stream",
     "text": [
      "Test RMSE:  1.4406716038278844\n"
     ]
    }
   ],
   "source": [
    "from sklearn.metrics import mean_squared_error\n",
    "\n",
    "y_pred = linear_reg2.predict(polynomial_reg.fit_transform(x_test))\n",
    "\n",
    "rmse = np.sqrt(mean_squared_error(y_test, y_pred))\n",
    "print(\"Test RMSE: \", rmse)"
   ]
  },
  {
   "cell_type": "markdown",
   "metadata": {},
   "source": [
    "### Tahmin v Gerçek"
   ]
  },
  {
   "cell_type": "code",
   "execution_count": 16,
   "metadata": {},
   "outputs": [
    {
     "name": "stdout",
     "output_type": "stream",
     "text": [
      "       Tahmin Gerçek\n",
      "24   3.245409   3.18\n",
      "6    1.277304   2.00\n",
      "153  4.339456   2.00\n",
      "211  2.968969   5.16\n",
      "198  2.385430   2.00\n",
      "..        ...    ...\n",
      "165  3.169453   3.48\n",
      "154  3.813692   2.00\n",
      "216 -1.873190   3.00\n",
      "79   2.882576   2.71\n",
      "29   3.240724   3.00\n",
      "\n",
      "[74 rows x 2 columns]\n"
     ]
    }
   ],
   "source": [
    "y_pred = linear_reg2.predict(polynomial_reg.fit_transform(x_test))\n",
    "\n",
    "y_tahmin=pd.DataFrame(data = y_pred)\n",
    "y_normal = pd.DataFrame(data = y_test)\n",
    "y_tahmin.index = y_normal.index\n",
    "\n",
    "result=pd.concat([y_tahmin, y_normal],axis=1)\n",
    "result.columns=[[\"Tahmin\",\"Gerçek\"]]\n",
    "\n",
    "print(result)"
   ]
  }
 ],
 "metadata": {
  "kernelspec": {
   "display_name": "Python 3",
   "language": "python",
   "name": "python3"
  },
  "language_info": {
   "codemirror_mode": {
    "name": "ipython",
    "version": 3
   },
   "file_extension": ".py",
   "mimetype": "text/x-python",
   "name": "python",
   "nbconvert_exporter": "python",
   "pygments_lexer": "ipython3",
   "version": "3.7.9"
  }
 },
 "nbformat": 4,
 "nbformat_minor": 4
}
