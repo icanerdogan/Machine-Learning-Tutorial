{
 "cells": [
  {
   "cell_type": "markdown",
   "metadata": {},
   "source": [
    "# VERİ DÜZENLEME"
   ]
  },
  {
   "cell_type": "markdown",
   "metadata": {},
   "source": [
    "### Verileri Getirme"
   ]
  },
  {
   "cell_type": "code",
   "execution_count": 2,
   "metadata": {},
   "outputs": [
    {
     "name": "stdout",
     "output_type": "stream",
     "text": [
      "     total_bill   tip     sex smoker   day    time  size\n",
      "0         16.99  1.01  Female     No   Sun  Dinner     2\n",
      "1         10.34  1.66    Male     No   Sun  Dinner     3\n",
      "2         21.01  3.50    Male     No   Sun  Dinner     3\n",
      "3         23.68  3.31    Male     No   Sun  Dinner     2\n",
      "4         24.59  3.61  Female     No   Sun  Dinner     4\n",
      "..          ...   ...     ...    ...   ...     ...   ...\n",
      "239       29.03  5.92    Male     No   Sat  Dinner     3\n",
      "240       27.18  2.00  Female    Yes   Sat  Dinner     2\n",
      "241       22.67  2.00    Male    Yes   Sat  Dinner     2\n",
      "242       17.82  1.75    Male     No   Sat  Dinner     2\n",
      "243       18.78  3.00  Female     No  Thur  Dinner     2\n",
      "\n",
      "[244 rows x 7 columns]\n"
     ]
    }
   ],
   "source": [
    "import seaborn as sns\n",
    "import pandas as pd\n",
    "\n",
    "data = sns.load_dataset(\"tips\")\n",
    "df = pd.DataFrame(data)\n",
    "\n",
    "print(df)"
   ]
  },
  {
   "cell_type": "markdown",
   "metadata": {},
   "source": [
    "#### Eksik Verileri Doldurma"
   ]
  },
  {
   "cell_type": "code",
   "execution_count": 3,
   "metadata": {},
   "outputs": [],
   "source": [
    "from sklearn.impute import SimpleImputer\n",
    "import numpy as np\n",
    "\n",
    "imputer = SimpleImputer(missing_values=np.nan, strategy=\"mean\")\n",
    "imputer = imputer.fit(df[[\"total_bill\"]])\n",
    "df[[\"total_bill\"]] = imputer.transform(df[[\"total_bill\"]])"
   ]
  },
  {
   "cell_type": "markdown",
   "metadata": {},
   "source": [
    "#### Kategorik Olmayan Değişkenler"
   ]
  },
  {
   "cell_type": "code",
   "execution_count": 8,
   "metadata": {},
   "outputs": [],
   "source": [
    "total_bill = df[[\"total_bill\"]]\n",
    "tip = df[[\"tip\"]]\n",
    "size = df[[\"size\"]]"
   ]
  },
  {
   "cell_type": "markdown",
   "metadata": {},
   "source": [
    "#### Kategorik Değişkenler"
   ]
  },
  {
   "cell_type": "code",
   "execution_count": 5,
   "metadata": {},
   "outputs": [
    {
     "name": "stdout",
     "output_type": "stream",
     "text": [
      "     smoker_Yes  smoker_No\n",
      "0             0          1\n",
      "1             0          1\n",
      "2             0          1\n",
      "3             0          1\n",
      "4             0          1\n",
      "..          ...        ...\n",
      "239           0          1\n",
      "240           1          0\n",
      "241           1          0\n",
      "242           0          1\n",
      "243           0          1\n",
      "\n",
      "[244 rows x 2 columns]\n"
     ]
    }
   ],
   "source": [
    "import pandas as pd\n",
    "smoker = pd.get_dummies(df[[\"smoker\"]])\n",
    "time = pd.get_dummies(df[[\"day\"]])"
   ]
  },
  {
   "cell_type": "markdown",
   "metadata": {},
   "source": [
    "#### Kukla Değişkeni Kaldırma"
   ]
  },
  {
   "cell_type": "code",
   "execution_count": 6,
   "metadata": {},
   "outputs": [],
   "source": [
    "smoker = smoker.drop(\"smoker_Yes\", axis=1)"
   ]
  },
  {
   "cell_type": "markdown",
   "metadata": {},
   "source": [
    "#### Verileri Birleştirme"
   ]
  },
  {
   "cell_type": "code",
   "execution_count": 10,
   "metadata": {},
   "outputs": [
    {
     "name": "stdout",
     "output_type": "stream",
     "text": [
      "     total_bill  size  smoker_No  day_Thur  day_Fri  day_Sat  day_Sun   tip\n",
      "0         16.99     2          1         0        0        0        1  1.01\n",
      "1         10.34     3          1         0        0        0        1  1.66\n",
      "2         21.01     3          1         0        0        0        1  3.50\n",
      "3         23.68     2          1         0        0        0        1  3.31\n",
      "4         24.59     4          1         0        0        0        1  3.61\n",
      "..          ...   ...        ...       ...      ...      ...      ...   ...\n",
      "239       29.03     3          1         0        0        1        0  5.92\n",
      "240       27.18     2          0         0        0        1        0  2.00\n",
      "241       22.67     2          0         0        0        1        0  2.00\n",
      "242       17.82     2          1         0        0        1        0  1.75\n",
      "243       18.78     2          1         1        0        0        0  3.00\n",
      "\n",
      "[244 rows x 8 columns]\n"
     ]
    }
   ],
   "source": [
    "import pandas as pd\n",
    "\n",
    "new_data = pd.concat([total_bill, size, smoker, time, tip], axis=1)\n",
    "\n",
    "print(new_data)"
   ]
  },
  {
   "cell_type": "markdown",
   "metadata": {},
   "source": [
    "#### Train ve Test Belirleme"
   ]
  },
  {
   "cell_type": "code",
   "execution_count": 11,
   "metadata": {},
   "outputs": [],
   "source": [
    "training = new_data.iloc[:, 0:7]\n",
    "testing = new_data.iloc[:, 7:8]"
   ]
  },
  {
   "cell_type": "markdown",
   "metadata": {},
   "source": [
    "#### Train ve Test Ayırma"
   ]
  },
  {
   "cell_type": "code",
   "execution_count": 14,
   "metadata": {},
   "outputs": [
    {
     "name": "stdout",
     "output_type": "stream",
     "text": [
      "     total_bill  size  smoker_No  day_Thur  day_Fri  day_Sat  day_Sun\n",
      "234       15.53     2          0         0        0        1        0\n",
      "227       20.45     4          1         0        0        1        0\n",
      "180       34.65     4          0         0        0        0        1\n",
      "5         25.29     4          1         0        0        0        1\n",
      "56        38.01     4          0         0        0        1        0\n",
      "..          ...   ...        ...       ...      ...      ...      ...\n",
      "106       20.49     2          0         0        0        1        0\n",
      "14        14.83     2          1         0        0        0        1\n",
      "92         5.75     2          0         0        1        0        0\n",
      "179       34.63     2          0         0        0        0        1\n",
      "102       44.30     3          0         0        0        1        0\n",
      "\n",
      "[170 rows x 7 columns]\n",
      "      tip\n",
      "234  3.00\n",
      "227  3.00\n",
      "180  3.68\n",
      "5    4.71\n",
      "56   3.00\n",
      "..    ...\n",
      "106  4.06\n",
      "14   3.02\n",
      "92   1.00\n",
      "179  3.55\n",
      "102  2.50\n",
      "\n",
      "[170 rows x 1 columns]\n",
      "     total_bill  size  smoker_No  day_Thur  day_Fri  day_Sat  day_Sun\n",
      "24        19.82     2          1         0        0        1        0\n",
      "6          8.77     2          1         0        0        0        1\n",
      "153       24.55     4          1         0        0        0        1\n",
      "211       25.89     4          0         0        0        1        0\n",
      "198       13.00     2          0         1        0        0        0\n",
      "..          ...   ...        ...       ...      ...      ...      ...\n",
      "165       24.52     3          1         0        0        0        1\n",
      "154       19.77     4          1         0        0        0        1\n",
      "216       28.15     5          0         0        0        1        0\n",
      "79        17.29     2          1         1        0        0        0\n",
      "29        19.65     2          1         0        0        1        0\n",
      "\n",
      "[74 rows x 7 columns]\n"
     ]
    }
   ],
   "source": [
    "from sklearn.model_selection import train_test_split\n",
    "\n",
    "x_train, x_test, y_train, y_test = train_test_split(training, testing, test_size=0.30, random_state=42)\n",
    "\n",
    "print(x_train)\n",
    "print(y_train)\n",
    "print(x_test)"
   ]
  },
  {
   "cell_type": "code",
   "execution_count": null,
   "metadata": {},
   "outputs": [],
   "source": []
  }
 ],
 "metadata": {
  "kernelspec": {
   "display_name": "Python 3",
   "language": "python",
   "name": "python3"
  },
  "language_info": {
   "codemirror_mode": {
    "name": "ipython",
    "version": 3
   },
   "file_extension": ".py",
   "mimetype": "text/x-python",
   "name": "python",
   "nbconvert_exporter": "python",
   "pygments_lexer": "ipython3",
   "version": "3.7.9"
  }
 },
 "nbformat": 4,
 "nbformat_minor": 4
}
